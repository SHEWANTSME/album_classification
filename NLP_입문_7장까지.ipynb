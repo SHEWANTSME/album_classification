{
 "cells": [
  {
   "attachments": {},
   "cell_type": "markdown",
   "metadata": {},
   "source": [
    "## 좀 늦었지만.. https://wikidocs.net/book/2155 에 있는 내용에 대해 정리하고 다시 공부하는 시간을 가져보고자 한다.\n",
    "## 현재 konlpy는 아직 다운되지 않은 상태.\n"
   ]
  },
  {
   "cell_type": "code",
   "execution_count": 2,
   "metadata": {},
   "outputs": [
    {
     "name": "stdout",
     "output_type": "stream",
     "text": [
      "1.5.3\n",
      "1.23.5\n",
      "3.7.0\n"
     ]
    }
   ],
   "source": [
    "# pandas , numpy, matplotlib \n",
    "import pandas as pd\n",
    "import numpy as np\n",
    "import matplotlib as mlp\n",
    "print(pd.__version__)\n",
    "print(np.__version__)\n",
    "print(mlp.__version__)"
   ]
  },
  {
   "attachments": {},
   "cell_type": "markdown",
   "metadata": {},
   "source": [
    "### pandas series\n",
    "1차원 배열값에 대응되는 index를 부여할 수 있는 구조"
   ]
  },
  {
   "cell_type": "code",
   "execution_count": 3,
   "metadata": {},
   "outputs": [
    {
     "name": "stdout",
     "output_type": "stream",
     "text": [
      "껌      500\n",
      "과자    1000\n",
      "빵     2000\n",
      "맥주    4000\n",
      "dtype: int64\n",
      " \n",
      "Index(['껌', '과자', '빵', '맥주'], dtype='object')\n",
      " \n",
      "[ 500 1000 2000 4000]\n",
      "<class 'pandas.core.indexes.base.Index'> <class 'numpy.ndarray'>\n",
      "['껌', '과자', '빵', '맥주'] [ 500 1000 2000 4000]\n"
     ]
    }
   ],
   "source": [
    "# pandas series\n",
    "# 1차원 배열값에 대응되는 index를 부여할 수 있는 구조\n",
    "arr = pd.Series([500,1000,2000,4000], index = [\"껌\",\"과자\",'빵','맥주'])\n",
    "print(arr)\n",
    "print(\" \")\n",
    "print(arr.index)\n",
    "print(\" \")\n",
    "print(arr.values)\n",
    "# if you want to make new series with its own index, values you can do it like this\n",
    "ar1 = arr.index\n",
    "ar2 = arr.values\n",
    "print(type(ar1), type(ar2))\n",
    "print(list(ar1) , ar2)\n"
   ]
  },
  {
   "cell_type": "code",
   "execution_count": 4,
   "metadata": {},
   "outputs": [
    {
     "name": "stdout",
     "output_type": "stream",
     "text": [
      "what the fuck 껌\n"
     ]
    }
   ],
   "source": [
    "# if you want to put a value in a string\n",
    "print(f'what the fuck {ar1[0]}') "
   ]
  },
  {
   "attachments": {},
   "cell_type": "markdown",
   "metadata": {},
   "source": [
    "### pandas DataFrame\n",
    "\n",
    "데이터프레임은 2차원 리스트를 매개변수로 전달합니다. 2차원이므로 행방향 인덱스(index)와 열방향 인덱스(column)가 존재합니다. 다시 말해 행과 열을 가지는 자료구조입니다. 시리즈가 인덱스(index)와 값(values)으로 구성된다면, 데이터프레임은 열(columns)까지 추가되어 열(columns), 인덱스(index), 값(values)으로 구성됩니다. 이 세 개의 구성 요소로부터 데이터프레임을 생성해봅시다."
   ]
  },
  {
   "cell_type": "code",
   "execution_count": 5,
   "metadata": {},
   "outputs": [
    {
     "name": "stdout",
     "output_type": "stream",
     "text": [
      "       alpha  beta  gamma  omega\n",
      "one        1     2      3      4\n",
      "two        5     6      7      8\n",
      "three      9    10     11     12\n"
     ]
    }
   ],
   "source": [
    "# pandas Dataframe\n",
    "val = [[1,2,3,4], [5,6,7,8],[9,10,11,12]]\n",
    "idx = ['one', 'two','three']\n",
    "cols = ['alpha', 'beta','gamma','omega']\n",
    "df = pd.DataFrame(val,idx,cols)\n",
    "print(df)"
   ]
  },
  {
   "cell_type": "code",
   "execution_count": 6,
   "metadata": {},
   "outputs": [
    {
     "name": "stdout",
     "output_type": "stream",
     "text": [
      "   0  1  2  3\n",
      "0  a  b  c  d\n",
      "1  !  @  #  $\n",
      "2  o  p  q  r \n",
      "\n",
      "   0  1  2  3\n",
      "ㄱ  a  b  c  d\n",
      "ㄴ  !  @  #  $\n",
      "ㄷ  o  p  q  r \n",
      "\n",
      "  fir sec thr four\n",
      "ㄱ   a   b   c    d\n",
      "ㄴ   !   @   #    $\n",
      "ㄷ   o   p   q    r\n"
     ]
    }
   ],
   "source": [
    "# list can be changed to dataFrame\n",
    "data= [['a','b','c','d'] , ['!','@','#','$'], ['o','p','q','r']]\n",
    "print(pd.DataFrame(data),\"\\n\")\n",
    "print(pd.DataFrame(data, index=['ㄱ','ㄴ','ㄷ']),\"\\n\")\n",
    "print(pd.DataFrame(data, index=['ㄱ','ㄴ','ㄷ'] , columns=['fir','sec','thr','four']))"
   ]
  },
  {
   "cell_type": "code",
   "execution_count": 7,
   "metadata": {},
   "outputs": [
    {
     "name": "stdout",
     "output_type": "stream",
     "text": [
      "      name  age       hobby\n",
      "0     john   27  basketball\n",
      "1      amy   30      tennis\n",
      "2  adelade   18    swimming\n",
      "3     kate   16     running\n",
      "4   robert   43    football \n",
      "\n",
      "          name  age       hobby\n",
      "one       john   27  basketball\n",
      "two        amy   30      tennis\n",
      "three  adelade   18    swimming\n",
      "four      kate   16     running\n",
      "five    robert   43    football\n"
     ]
    }
   ],
   "source": [
    "# dictionary를 통해 dataframe을 생성할 수 있음\n",
    "dic = {\n",
    "    \"name\" : ['john', 'amy','adelade','kate','robert'],\n",
    "    \"age\" : [27,30,18,16,43],\n",
    "    \"hobby\":['basketball','tennis','swimming','running','football']\n",
    "}\n",
    "dic_to_df = pd.DataFrame(dic)\n",
    "print(dic_to_df,\"\\n\")\n",
    "# can be changed by using index like this.\n",
    "dic_to_df.index=['one','two','three','four','five']\n",
    "print(dic_to_df)"
   ]
  },
  {
   "attachments": {},
   "cell_type": "markdown",
   "metadata": {},
   "source": [
    "### Dataframe 조회하기\n",
    "* df.head(n) - 앞 부분을 n개만 보기 \n",
    "* df.tail(n) - 뒷 부분을 n개만 보기\n",
    "* df['열이름'] - 해당되는 열을 확인"
   ]
  },
  {
   "cell_type": "code",
   "execution_count": 8,
   "metadata": {},
   "outputs": [
    {
     "name": "stdout",
     "output_type": "stream",
     "text": [
      "     alpha  beta  gamma  omega\n",
      "one      1     2      3      4\n",
      "two      5     6      7      8\n",
      "     alpha  beta  gamma  omega\n",
      "one      1     2      3      4\n",
      "       alpha  beta  gamma  omega\n",
      "three      9    10     11     12 \n",
      "\n",
      "\n",
      "alpha    1\n",
      "beta     2\n",
      "gamma    3\n",
      "omega    4\n",
      "Name: one, dtype: int64\n",
      "alpha    1\n",
      "beta     2\n",
      "gamma    3\n",
      "omega    4\n",
      "Name: one, dtype: int64\n"
     ]
    }
   ],
   "source": [
    "print(df.head(2))\n",
    "print(df.head(-2))\n",
    "print(df.tail(1),'\\n\\n')\n",
    "\n",
    "print(df.loc['one']) # df.loc for named row \n",
    "print(df.iloc[0]) # df.iloc for integer row"
   ]
  },
  {
   "attachments": {},
   "cell_type": "markdown",
   "metadata": {},
   "source": [
    "### 외부 데이터 읽기\n",
    "Pandas는 CSV, 텍스트, Excel, SQL, HTML, JSON 등 다양한 데이터 파일을 읽고 데이터 프레임을 생성할 수 있습니다.\n",
    "\n",
    "예를 들어 csv 파일을 읽을 때는 pandas.read_csv()를 통해 읽을 수 있습니다."
   ]
  },
  {
   "cell_type": "code",
   "execution_count": 9,
   "metadata": {},
   "outputs": [],
   "source": [
    "# 일단 to_csv로 해당 album_classification에 csv파일을 하나 만들고\n",
    "# 그 다음 진행시켜보자\n",
    "# df_to_csv = df.to_csv(\"/Users/junny/Desktop/Pytorch_Study/album_classification\",sep=',',na_rep='missing value')\n",
    "# 저렇게 define하는게 아니고\n",
    "df.to_csv(\"/Users/junny/Desktop/Pytorch_Study/album_classification/df_to_csv.csv\",sep=',',na_rep='missing value')\n",
    "\n"
   ]
  },
  {
   "cell_type": "code",
   "execution_count": 10,
   "metadata": {},
   "outputs": [
    {
     "name": "stdout",
     "output_type": "stream",
     "text": [
      "  Unnamed: 0  alpha  beta  gamma  omega\n",
      "0        one      1     2      3      4\n",
      "1        two      5     6      7      8\n",
      "2      three      9    10     11     12\n"
     ]
    }
   ],
   "source": [
    "# csv로 만들어 주는 애는 따로 define되어서 사용하는게 아니고 그냥 저거 자체만 쓰면 알아서 쓰이는 형태\n",
    "new_csv = pd.read_csv('df_to_csv.csv')\n",
    "print(new_csv)"
   ]
  },
  {
   "attachments": {},
   "cell_type": "markdown",
   "metadata": {},
   "source": [
    "### 이제는 numpy\n",
    " Numpy의 핵심이라고 불리는 다차원 행렬 자료구조인 ndarray를 통해 벡터 및 행렬을 사용하는 선형 대수 계산에서 주로 사용됩니다. Numpy는 편의성뿐만 아니라, 속도면에서도 순수 파이썬에 비해 압도적으로 빠르다는 장점이 있습니다."
   ]
  },
  {
   "cell_type": "code",
   "execution_count": 17,
   "metadata": {},
   "outputs": [
    {
     "name": "stdout",
     "output_type": "stream",
     "text": [
      "[3 2 1] <class 'numpy.ndarray'>\n",
      "[[1 2 3]\n",
      " [4 5 6]] <class 'numpy.ndarray'>\n",
      "['aa' 'b' 'c'] <class 'numpy.ndarray'>\n"
     ]
    }
   ],
   "source": [
    "print(np.array([3,2,1]) , type(np.array([3,2,1])))\n",
    "print(np.array([[1,2,3],[4,5,6]]), type(np.array([[1,2,3],[4,5,6]])))\n",
    "print(np.array(['aa','b','c']),type(np.array(['aa','b','c'])))"
   ]
  },
  {
   "attachments": {},
   "cell_type": "markdown",
   "metadata": {},
   "source": [
    "we can notice that 둘다 ndarray형태\n",
    "Numpy 배열에는 ```축의 개수(ndim)``` 와 ``` 크기(shape)``` 라는 개념이 존재하는데, 배열의 크기를 정확히 숙지하는 것은 딥 러닝에서 매우 중요합니다. 축의 개수와 크기가 어떤 의미를 가지는지에 대해서는 머신 러닝 챕터에서 벡터와 행렬 연산을 설명할 때 언급하겠습니다.\n",
    "\n"
   ]
  },
  {
   "cell_type": "code",
   "execution_count": 19,
   "metadata": {},
   "outputs": [
    {
     "name": "stdout",
     "output_type": "stream",
     "text": [
      "[[0. 0.]\n",
      " [0. 0.]\n",
      " [0. 0.]\n",
      " [0. 0.]\n",
      " [0. 0.]] \n",
      "\n",
      "[[1. 1.]\n",
      " [1. 1.]\n",
      " [1. 1.]\n",
      " [1. 1.]\n",
      " [1. 1.]] \n",
      "\n",
      "[['a' 'b' 'c' 'd' 'e']\n",
      " ['a' 'b' 'c' 'd' 'e']\n",
      " ['a' 'b' 'c' 'd' 'e']] \n",
      "\n",
      "[[1. 0. 0.]\n",
      " [0. 1. 0.]\n",
      " [0. 0. 1.]]\n",
      "[[0.687553   0.65621698 0.31990158]\n",
      " [0.26405262 0.18585764 0.78837976]\n",
      " [0.78333744 0.56195113 0.81485342]\n",
      " [0.92817566 0.15318084 0.66637712]\n",
      " [0.12897793 0.70527862 0.39805936]] \n",
      "\n",
      "[1 2 3 4 5 6 7 8 9] \n",
      "\n",
      "[3 5 7 9]\n",
      "[[ 0  1  2]\n",
      " [ 3  4  5]\n",
      " [ 6  7  8]\n",
      " [ 9 10 11]\n",
      " [12 13 14]\n",
      " [15 16 17]\n",
      " [18 19 20]\n",
      " [21 22 23]\n",
      " [24 25 26]\n",
      " [27 28 29]]\n"
     ]
    }
   ],
   "source": [
    "# np.zeros, ones,full,eye,random ,,,\n",
    "print(np.zeros((5,2)), \"\\n\")\n",
    "print(np.ones((5,2)), \"\\n\")\n",
    "print(np.full((3,5) , ['a','b','c','d','e']) , \"\\n\")\n",
    "print(np.eye(3))\n",
    "print(np.random.random((5,3)),\"\\n\")\n",
    "print(np.arange(1,10),\"\\n\")\n",
    "print(np.arange(3,11,2))\n",
    "print(np.array(np.arange(30)).reshape((10,3)))\n",
    "# you can reshape an array to multi-dimensional ones\n",
    "# 24면 2*3*4 로 해도 되고 12*2 이래도 되니까 "
   ]
  },
  {
   "cell_type": "code",
   "execution_count": null,
   "metadata": {},
   "outputs": [],
   "source": [
    "# 참고로 np.ndarray는 잘 쓰이지 않는 기법..\n",
    "# np.array는 ndarray클래스를 만들기 위한 function이고\n",
    "# np.ndarray도 따로 있지만 not recommended라고 한다."
   ]
  },
  {
   "cell_type": "code",
   "execution_count": 30,
   "metadata": {},
   "outputs": [
    {
     "name": "stdout",
     "output_type": "stream",
     "text": [
      "[1 2 3]\n",
      "[1 2 3]\n",
      "[2 5]\n",
      "[[1 2 3]\n",
      " [4 5 6]]\n"
     ]
    }
   ],
   "source": [
    "# Slicing \n",
    "mat = np.array([[1,2,3],[4,5,6]])\n",
    "print(mat[0])\n",
    "print(mat[0,:])\n",
    "print(mat[:,1]) # 두번째 열 출력\n",
    "print(mat)\n"
   ]
  },
  {
   "cell_type": "code",
   "execution_count": 32,
   "metadata": {},
   "outputs": [
    {
     "name": "stdout",
     "output_type": "stream",
     "text": [
      "[[1 2]\n",
      " [4 5]\n",
      " [7 8]]\n",
      "4\n",
      "4\n",
      "[7 4]\n"
     ]
    }
   ],
   "source": [
    "mat = np.array([[1, 2], [4, 5], [7, 8]])\n",
    "print(mat)\n",
    "print(mat[1][0])\n",
    "print(mat[1,0])# fancy indexing\n",
    "# you can make 2 specific values to a new array\n",
    "new_arr = mat[[2,1],[0,0]]\n",
    "# 근데 여기서 계산법이 다름.. -> \n",
    "# mat[[2행, 1행],[0열, 0열]]\n",
    "# 각 행과 열의 쌍을 매칭하면 2행 0열 ((2,0)의 위치), 1행 0열 ((1,0)의 위치)의 두 개의 원소.\n",
    "print(new_arr)"
   ]
  },
  {
   "attachments": {},
   "cell_type": "markdown",
   "metadata": {},
   "source": [
    "기존 python list 자체의 연산은 안되었지만\n",
    "ndarray끼리의 연산은 가능하다."
   ]
  },
  {
   "cell_type": "code",
   "execution_count": 38,
   "metadata": {},
   "outputs": [
    {
     "name": "stdout",
     "output_type": "stream",
     "text": [
      "[5 7 9]\n",
      "[ 7  9 11]\n",
      "[5 7 9] \n",
      "\n",
      "[-3 -3 -3]\n",
      "[-3 -3 -3] \n",
      "\n",
      "[ 4 10 18]\n",
      "[ 4 10 18] \n",
      "\n",
      "[4.  2.5 2. ]\n",
      "[4.  2.5 2. ] \n",
      "\n",
      "[[19 22]\n",
      " [43 50]]\n"
     ]
    }
   ],
   "source": [
    "x = np.array([1,2,3])\n",
    "y = np.array([4,5,6])\n",
    "print(x+y)\n",
    "print(x+y+2) # 2를 각각의 위치마다 더해주는 꼴\n",
    "print(np.add(x,y),\"\\n\")\n",
    "print(x-y)\n",
    "print(np.subtract(x,y),\"\\n\")\n",
    "print(x*y)\n",
    "print(np.multiply(x,y),\"\\n\")\n",
    "print(y/x)\n",
    "print(np.divide(y,x),\"\\n\")\n",
    "\n",
    "# dot product\n",
    "mat1 = np.array([[1,2],[3,4]])\n",
    "mat2 = np.array([[5,6],[7,8]])\n",
    "mat3 = np.dot(mat1, mat2)\n",
    "print(mat3)"
   ]
  },
  {
   "attachments": {},
   "cell_type": "markdown",
   "metadata": {},
   "source": [
    "### MatPlotLib(맷플롯립)\n",
    "맷플롯립(Matplotlib)은 데이터를 차트(chart)나 플롯(plot)으로 ```시각화하는 패키지입니다```. 데이터 분석에서 Matplotlib은 데이터 분석 이전에 데이터 이해를 위한 시각화나, 데이터 분석 후에 결과를 ```시각화```하기 위해서 사용됩니다. "
   ]
  },
  {
   "cell_type": "code",
   "execution_count": 41,
   "metadata": {},
   "outputs": [
    {
     "data": {
      "image/png": "[encoded data removed]",
      "text/plain": [
       "<Figure size 640x480 with 1 Axes>"
      ]
     },
     "metadata": {},
     "output_type": "display_data"
    }
   ],
   "source": [
    "import matplotlib.pyplot as plt\n",
    "plt.title('test')\n",
    "plt.plot([1,2,3,4],[2,4,6,8])\n",
    "plt.show()"
   ]
  },
  {
   "cell_type": "code",
   "execution_count": 44,
   "metadata": {},
   "outputs": [
    {
     "data": {
      "image/png": "[encoded data removed]",
      "text/plain": [
       "<Figure size 640x480 with 1 Axes>"
      ]
     },
     "metadata": {},
     "output_type": "display_data"
    }
   ],
   "source": [
    "plt.title('test')\n",
    "plt.plot([1,2,3,4],[2,4,6,8])\n",
    "plt.xlabel('x chuck')\n",
    "plt.ylabel('y chuck')\n",
    "plt.show()"
   ]
  },
  {
   "attachments": {},
   "cell_type": "markdown",
   "metadata": {},
   "source": [
    "### line 추가\n",
    "다수의 plot()을 하나의 그래프에 나타낼 수 있습니다. 여러개의 라인 플롯을 동시에 사용할 경우에는 각 선이 어떤 데이터를 나타내는지를 보여주기 위해 ```범례(legend)```를 사용할 수 있습니다."
   ]
  },
  {
   "cell_type": "code",
   "execution_count": 48,
   "metadata": {},
   "outputs": [
    {
     "data": {
      "image/png": "[encoded data removed]",
      "text/plain": [
       "<Figure size 640x480 with 1 Axes>"
      ]
     },
     "metadata": {},
     "output_type": "display_data"
    }
   ],
   "source": [
    "plt.title('students')\n",
    "plt.plot([1,2,3,4],[2,4,8,6])\n",
    "plt.plot([1.5,2.5,3.5,4.5],[3,5,8,10]) # 라인 새로 추가\n",
    "plt.plot([0.1,0.2,0.3,0.4,0.5],[10,5,20,4,30])\n",
    "plt.xlabel('hours')\n",
    "plt.ylabel('score')\n",
    "plt.legend(['A student', 'B student','Genius','fucker']) # 범례 삽입\n",
    "plt.show()\n",
    "# plot의 수와 legend의 수와 달라도 돌아가긴 하지만 표에 뜨진 않음"
   ]
  },
  {
   "attachments": {},
   "cell_type": "markdown",
   "metadata": {},
   "source": [
    "예전에 내가 ```numpy_pandas_re``` 라고 \n",
    "공부해둔거 ipynb가 있었는데\n",
    "그거를 다시 여기에 복붙해둘 예정"
   ]
  },
  {
   "cell_type": "code",
   "execution_count": 49,
   "metadata": {},
   "outputs": [
    {
     "name": "stdout",
     "output_type": "stream",
     "text": [
      "<class 'list'> <class 'numpy.ndarray'>\n",
      "[1, 2, 3, 4] [1 2 3 4]\n",
      "(4,)\n",
      "4 4\n",
      "(1, 3, 3) 3\n"
     ]
    }
   ],
   "source": [
    "# I downloaded numpy(numerical python) in version 3.9.13 \n",
    "l1 = [1,2,3,4]\n",
    "arr = np.array(l1)\n",
    "print(type(l1) , type(arr))\n",
    "print(l1 , arr)\n",
    "# numpy의 array의 type이 ndarray인 거고 실제로 define할때는 np.array 이런식으로 작성해야 한다.\n",
    "print(arr.shape ) # l1(list형)은 shape가 없다. -> shape shows the size  of the array\n",
    "# (4,) 이렇게 생긴건 1차원일때만,\n",
    "print(len(l1) , len(arr))\n",
    "ar = np.array([[[1,2,3],[4,5,6],[7,8,9]]])\n",
    "print(ar.shape , ar.ndim)"
   ]
  },
  {
   "cell_type": "code",
   "execution_count": 50,
   "metadata": {},
   "outputs": [
    {
     "name": "stdout",
     "output_type": "stream",
     "text": [
      "[ 0  1  2  3  4  5  6  7  8  9 10 11 12 13 14 15 16 17 18 19]\n",
      "[2 3 4 5 6 7 8 9]\n",
      "<class 'range'> 2\n",
      "<class 'numpy.ndarray'>\n"
     ]
    }
   ],
   "source": [
    "arr2 = np.arange(20)\n",
    "print(arr2)\n",
    "arr3 = np.arange(2,10)\n",
    "print(arr3)\n",
    "l2 = range(2,30)\n",
    "print(type(l2), l2[0])\n",
    "print(type(arr3)) # ndarray객체를 반환한다."
   ]
  },
  {
   "cell_type": "code",
   "execution_count": 51,
   "metadata": {},
   "outputs": [
    {
     "name": "stdout",
     "output_type": "stream",
     "text": [
      "[[0. 0. 0.]\n",
      " [0. 0. 0.]]\n",
      "[[[0. 0. 0. 0. 0.]\n",
      "  [0. 0. 0. 0. 0.]\n",
      "  [0. 0. 0. 0. 0.]\n",
      "  [0. 0. 0. 0. 0.]]\n",
      "\n",
      " [[0. 0. 0. 0. 0.]\n",
      "  [0. 0. 0. 0. 0.]\n",
      "  [0. 0. 0. 0. 0.]\n",
      "  [0. 0. 0. 0. 0.]]\n",
      "\n",
      " [[0. 0. 0. 0. 0.]\n",
      "  [0. 0. 0. 0. 0.]\n",
      "  [0. 0. 0. 0. 0.]\n",
      "  [0. 0. 0. 0. 0.]]]\n"
     ]
    }
   ],
   "source": [
    "print(np.zeros((2,3)))\n",
    "print(np.zeros(((3,4,5))))\n",
    "# zero들을 생성"
   ]
  },
  {
   "cell_type": "code",
   "execution_count": 52,
   "metadata": {},
   "outputs": [
    {
     "name": "stdout",
     "output_type": "stream",
     "text": [
      "[[10 10 10 10]\n",
      " [10 10 10 10]\n",
      " [10 10 10 10]]\n",
      "[[[-1 -1 -1]\n",
      "  [-1 -1 -1]\n",
      "  [-1 -1 -1]\n",
      "  [-1 -1 -1]]\n",
      "\n",
      " [[-1 -1 -1]\n",
      "  [-1 -1 -1]\n",
      "  [-1 -1 -1]\n",
      "  [-1 -1 -1]]\n",
      "\n",
      " [[-1 -1 -1]\n",
      "  [-1 -1 -1]\n",
      "  [-1 -1 -1]\n",
      "  [-1 -1 -1]]]\n"
     ]
    }
   ],
   "source": [
    "print(np.full((3,4), 10)) # 딱 보면 알거라고 생각한다.\n",
    "print(np.full(((3,4,3)), -1))"
   ]
  },
  {
   "cell_type": "code",
   "execution_count": 53,
   "metadata": {},
   "outputs": [
    {
     "name": "stdout",
     "output_type": "stream",
     "text": [
      "[[1. 0. 0.]\n",
      " [0. 1. 0.]\n",
      " [0. 0. 1.]]\n",
      "[[1. 0. 0. 0.]\n",
      " [0. 1. 0. 0.]\n",
      " [0. 0. 1. 0.]\n",
      " [0. 0. 0. 1.]]\n",
      "[[1. 0. 0. 0. 0.]\n",
      " [0. 1. 0. 0. 0.]\n",
      " [0. 0. 1. 0. 0.]\n",
      " [0. 0. 0. 1. 0.]\n",
      " [0. 0. 0. 0. 1.]]\n"
     ]
    }
   ],
   "source": [
    "print(np.eye(3))\n",
    "print(np.eye(4))\n",
    "print(np.eye(5))\n",
    "# making the 단위행렬"
   ]
  },
  {
   "cell_type": "code",
   "execution_count": 54,
   "metadata": {},
   "outputs": [
    {
     "name": "stdout",
     "output_type": "stream",
     "text": [
      "<class 'numpy.ndarray'>\n",
      "float64\n"
     ]
    }
   ],
   "source": [
    "print(type(np.zeros(3))) # np.zero 자체의 type\n",
    "print(np.zeros(3).dtype) # ndarray의 속성값의 type"
   ]
  },
  {
   "cell_type": "code",
   "execution_count": 55,
   "metadata": {},
   "outputs": [
    {
     "name": "stdout",
     "output_type": "stream",
     "text": [
      "[[1 2 3]\n",
      " [4 5 6]]\n",
      "[[ 2  4  6]\n",
      " [ 8 10 12]]\n",
      "[[ 1  4  9]\n",
      " [16 25 36]]\n",
      "[[0 0 0]\n",
      " [0 0 0]]\n",
      "[[1.         1.41421356 1.73205081]\n",
      " [2.         2.23606798 2.44948974]]\n",
      "[[ True  True False]\n",
      " [False False False]]\n"
     ]
    }
   ],
   "source": [
    "# numpy 산술연산\n",
    "arr = np.array([[1,2,3],[4,5,6]])\n",
    "print(arr)\n",
    "print(arr*2)\n",
    "print(arr*arr)\n",
    "print(arr-arr)\n",
    "print(arr**0.5)\n",
    "print(arr*2>=arr*arr) # this also returns the Boolean value"
   ]
  },
  {
   "cell_type": "code",
   "execution_count": 56,
   "metadata": {},
   "outputs": [
    {
     "name": "stdout",
     "output_type": "stream",
     "text": [
      "[ 3  4  5  6  7  8  9 10]\n",
      "[  3   4   5 121   7   8   9  10]\n"
     ]
    }
   ],
   "source": [
    "# View and Copy\n",
    "# numpy's array has the characteristic of 'view'\n",
    "arr = np.arange(3,11)\n",
    "print(arr)\n",
    "arr[3] = 121\n",
    "print(arr)"
   ]
  },
  {
   "cell_type": "code",
   "execution_count": 57,
   "metadata": {},
   "outputs": [
    {
     "name": "stdout",
     "output_type": "stream",
     "text": [
      "[-37   8   9]\n",
      "[  3   4   5 121 -37   8   9  10]\n"
     ]
    }
   ],
   "source": [
    "# 여기서 재밌는 일이 벌어진다\n",
    "ar_temp = arr[4:7]\n",
    "ar_temp[0]= -37\n",
    "print(ar_temp)\n",
    "print(arr) # 이 결과를 보면 알겠지만 \n",
    "# data는 복사되지 않고 view에 대한 변경은 그대로 원본 배열에 반영이 된다."
   ]
  },
  {
   "cell_type": "code",
   "execution_count": 58,
   "metadata": {},
   "outputs": [
    {
     "name": "stdout",
     "output_type": "stream",
     "text": [
      "[-37   8   9]\n",
      "[111 111 111]\n",
      "[  3   4   5 121 111 111 111  10]\n"
     ]
    }
   ],
   "source": [
    "# 단순히 slice를 하면 모든 값을 할당함\n",
    "print(ar_temp)\n",
    "ar_temp[:]= 111\n",
    "print(ar_temp)\n",
    "print(arr)"
   ]
  },
  {
   "cell_type": "code",
   "execution_count": 59,
   "metadata": {},
   "outputs": [
    {
     "name": "stdout",
     "output_type": "stream",
     "text": [
      "[  3   4   5 121 111 111 111]\n",
      "[ 30   4   5 121 111 111 111]\n",
      "[  3   4   5 121 111 111 111  10]\n"
     ]
    }
   ],
   "source": [
    "# copy본을 얻고 싶으면 -> .copy()를 써야한다.\n",
    "ar_new_temp = arr[:-1].copy()\n",
    "print(ar_new_temp)\n",
    "ar_new_temp[0]=30\n",
    "print(ar_new_temp)\n",
    "print(arr)"
   ]
  },
  {
   "cell_type": "code",
   "execution_count": 60,
   "metadata": {},
   "outputs": [
    {
     "name": "stdout",
     "output_type": "stream",
     "text": [
      "[[ 0. 10.  0.  0.]\n",
      " [ 0.  0.  0.  0.]\n",
      " [ 0.  0.  0.  0.]]\n",
      "[[ 0. 10. 11.  0.]\n",
      " [ 0.  0.  0.  0.]\n",
      " [ 0.  0.  0.  0.]]\n"
     ]
    }
   ],
   "source": [
    "arr2 = np.zeros((3,4))\n",
    "arr2[0][1]=10\n",
    "print(arr2)\n",
    "arr2[0,2]=11 # 이렇게 해도 상관은 없음\n",
    "print(arr2)"
   ]
  },
  {
   "attachments": {},
   "cell_type": "markdown",
   "metadata": {},
   "source": [
    "### 그니까\n",
    "copy() \n",
    "-> 원본과 복사본이 ```별개```  \n",
    "   즉, 서로 영향을 미치지 않음  \n",
    "   즉, 복사본 배열이 데이터를 개별 소유 가능  \n",
    "   즉. ``` 깊은 복사 ```  \n",
    "   ex : .copy() {대신 pure python에선 .copy()해도 얕은복사}\n",
    "\n",
    "view()\n",
    "-> 원본과 복사본이 ```서로 영향```  \n",
    "    즉, 서로 영향 끼침  \n",
    "    즉, 복사본 배열이 데이터 개별 소유 ```불```가능  \n",
    "    즉, ``` 얕은 복사 ```  \n",
    "    ex : slicing, .view()"
   ]
  },
  {
   "attachments": {},
   "cell_type": "markdown",
   "metadata": {},
   "source": [
    "NumPy 배열 객체의 base 속성 이용.\n",
    "\n",
    "※ copy()로 생성된 배열 (= 데이터 개별 소유 O) 경우, None 반환.\n",
    "\n",
    "※ view()로 생성된 배열 (= 데이터 개별 소유 X) 경우, 원본 배열 반환."
   ]
  },
  {
   "cell_type": "code",
   "execution_count": 61,
   "metadata": {},
   "outputs": [
    {
     "name": "stdout",
     "output_type": "stream",
     "text": [
      "None\n",
      "[1 2 3 4 5]\n"
     ]
    }
   ],
   "source": [
    "import numpy as np\n",
    "\n",
    "arr = np.array([1, 2, 3, 4, 5])\n",
    "\n",
    "x = arr.copy()\n",
    "\n",
    "y = arr.view()\n",
    "\n",
    "print(x.base) # None\n",
    "\n",
    "print(y.base) # [1 2 3 4 5]"
   ]
  },
  {
   "cell_type": "code",
   "execution_count": 62,
   "metadata": {},
   "outputs": [
    {
     "name": "stdout",
     "output_type": "stream",
     "text": [
      "[[ 1  2  3]\n",
      " [ 4  5  6]\n",
      " [ 7  8  9]\n",
      " [10 11 12]]\n",
      "[[ 1  2  3]\n",
      " [ 4  5  6]\n",
      " [ 7  8  9]\n",
      " [10 11 12]]\n",
      "[[1 2 3]\n",
      " [4 5 6]]\n",
      "[[1 2 3]\n",
      " [4 5 6]\n",
      " [7 8 9]]\n"
     ]
    }
   ],
   "source": [
    "# slicing \n",
    "arr2d =np.array([[1,2,3],[4,5,6],[7,8,9],[10,11,12]])\n",
    "print(arr2d)\n",
    "print(arr2d[:])\n",
    "print(arr2d[:2])\n",
    "print(arr2d[:-1])\n",
    "# 다른점을 체크해보세요"
   ]
  },
  {
   "cell_type": "code",
   "execution_count": 63,
   "metadata": {},
   "outputs": [
    {
     "name": "stdout",
     "output_type": "stream",
     "text": [
      "[[2 3]\n",
      " [5 6]]\n",
      "[[1 2]\n",
      " [4 5]]\n",
      "[8 9]\n",
      "[[ 2  3]\n",
      " [ 5  6]\n",
      " [ 8  9]\n",
      " [11 12]]\n",
      "[ 3  6  9 12]\n"
     ]
    }
   ],
   "source": [
    "print(arr2d[:2, 1:])\n",
    "print(arr2d[:2, :-1])\n",
    "print(arr2d[2, 1:])\n",
    "print(arr2d[:, 1:])\n",
    "print(arr2d[:, -1])\n",
    "# 뭐가 어떻게 되는건지 확인해보세요"
   ]
  },
  {
   "cell_type": "code",
   "execution_count": 64,
   "metadata": {},
   "outputs": [
    {
     "name": "stdout",
     "output_type": "stream",
     "text": [
      "['kim' 'lee' 'park' 'choi' 'jung']\n",
      "[[-0.69494277 -0.4613996  -0.01831939  0.75588866]\n",
      " [ 0.54931593  0.90000052 -0.16409847  0.87293473]\n",
      " [ 1.32815393 -1.18467496  0.3093613  -1.16712142]\n",
      " [-0.92320635  2.31337616 -0.21679674  1.10520928]\n",
      " [-1.30814332 -0.27928814  0.58463186  0.52266399]\n",
      " [ 0.60596553 -0.96320444 -0.1512901   0.73583977]\n",
      " [-1.17578576 -0.25005459  2.19555925  0.41993458]]\n"
     ]
    }
   ],
   "source": [
    "# randnum\n",
    "names = np.array(['kim','lee','park','choi','jung'])\n",
    "data = np.random.randn(7,4)\n",
    "print(names)\n",
    "print(data)"
   ]
  },
  {
   "cell_type": "code",
   "execution_count": 65,
   "metadata": {},
   "outputs": [
    {
     "name": "stdout",
     "output_type": "stream",
     "text": [
      "['kim' 'lee' 'park' 'choi' 'jung' 'moon' 'hwang']\n"
     ]
    }
   ],
   "source": [
    "# 일단 indexing하려는 축의 길이가 같아야함.. 그래야 위와같은 indexing error가 뜨지 않겠죠?\n",
    "names=np.append(names,np.array(['moon','hwang']))\n",
    "print(names)"
   ]
  },
  {
   "cell_type": "code",
   "execution_count": 66,
   "metadata": {},
   "outputs": [
    {
     "data": {
      "text/plain": [
       "array([[-1.30814332, -0.27928814,  0.58463186,  0.52266399]])"
      ]
     },
     "execution_count": 66,
     "metadata": {},
     "output_type": "execute_result"
    }
   ],
   "source": [
    "data[names=='jung']\n",
    "# names=='jung' 인 놈중 true값만 index로 쓰임"
   ]
  },
  {
   "cell_type": "code",
   "execution_count": 67,
   "metadata": {},
   "outputs": [
    {
     "data": {
      "text/plain": [
       "array([-0.27928814])"
      ]
     },
     "execution_count": 67,
     "metadata": {},
     "output_type": "execute_result"
    }
   ],
   "source": [
    "data[names=='jung', 1] # ㄴspecific하게 고를 수 있음"
   ]
  },
  {
   "cell_type": "code",
   "execution_count": 68,
   "metadata": {},
   "outputs": [
    {
     "data": {
      "text/plain": [
       "array([[-0.69494277, -0.4613996 , -0.01831939,  0.75588866],\n",
       "       [ 0.54931593,  0.90000052, -0.16409847,  0.87293473],\n",
       "       [ 1.32815393, -1.18467496,  0.3093613 , -1.16712142],\n",
       "       [-0.92320635,  2.31337616, -0.21679674,  1.10520928],\n",
       "       [ 0.60596553, -0.96320444, -0.1512901 ,  0.73583977],\n",
       "       [-1.17578576, -0.25005459,  2.19555925,  0.41993458]])"
      ]
     },
     "execution_count": 68,
     "metadata": {},
     "output_type": "execute_result"
    }
   ],
   "source": [
    "# not , != & | 사용 가능\n",
    "data[~(names=='jung')] # 여기선 names=='jung'이 true 아니면 false로 나오는 binary니까 bitwise하게 생각해도됨\n",
    "# 그래서 ~이 붙은거고\n",
    "# boolean 배열에서는 and, or 같은 논리연산자(&& || !) 보다 비트연산자(& | ~)로 움직인다고 생각하자"
   ]
  },
  {
   "cell_type": "code",
   "execution_count": 69,
   "metadata": {},
   "outputs": [
    {
     "name": "stdout",
     "output_type": "stream",
     "text": [
      "[[0. 0. 0. 0. 0. 0.]\n",
      " [1. 1. 1. 1. 1. 1.]\n",
      " [2. 2. 2. 2. 2. 2.]]\n"
     ]
    }
   ],
   "source": [
    "# Fancy Indexing\n",
    "arr = np.empty((3,6))\n",
    "for i in range(3):\n",
    "    arr[i] = i\n",
    "print(arr)"
   ]
  },
  {
   "cell_type": "code",
   "execution_count": 70,
   "metadata": {},
   "outputs": [
    {
     "name": "stdout",
     "output_type": "stream",
     "text": [
      "[[0. 0. 0. 0. 0. 0.]\n",
      " [1. 1. 1. 1. 1. 1.]]\n",
      "[[1. 1. 1. 1. 1. 1.]\n",
      " [2. 2. 2. 2. 2. 2.]]\n"
     ]
    }
   ],
   "source": [
    "# if you want to select specific ordered rows just 원하는 순서가 명시된 정수가 담긴 ndarray를 넘기면 된다\n",
    "print(arr[[0,1]])\n",
    "print(arr[[1,2]])"
   ]
  },
  {
   "cell_type": "code",
   "execution_count": 71,
   "metadata": {},
   "outputs": [
    {
     "name": "stdout",
     "output_type": "stream",
     "text": [
      "[['a' 'b' 'c']\n",
      " ['g' 'h' 'i']]\n",
      "[['11' '22' '33']\n",
      " ['d' 'e' 'f']\n",
      " ['a' 'b' 'c']\n",
      " ['d' 'e' 'f']\n",
      " ['d' 'e' 'f']\n",
      " ['d' 'e' 'f']\n",
      " ['d' 'e' 'f']\n",
      " ['d' 'e' 'f']]\n"
     ]
    }
   ],
   "source": [
    "# 만약 정수가 아닌 다른 애들이면?\n",
    "test = np.array([['a','b','c'],['d','e','f'],['g','h','i'],['11','22','33']])\n",
    "print(test[[0,2]]) # 옹 되네?\n",
    "print(test[[-1,-3,0,1,1,1,1,1]]) # 신기하넹"
   ]
  },
  {
   "cell_type": "code",
   "execution_count": 72,
   "metadata": {},
   "outputs": [
    {
     "name": "stdout",
     "output_type": "stream",
     "text": [
      "[[[ 0  1  2]\n",
      "  [ 3  4  5]\n",
      "  [ 6  7  8]]\n",
      "\n",
      " [[ 9 10 11]\n",
      "  [12 13 14]\n",
      "  [15 16 17]]\n",
      "\n",
      " [[18 19 20]\n",
      "  [21 22 23]\n",
      "  [24 25 26]]\n",
      "\n",
      " [[27 28 29]\n",
      "  [30 31 32]\n",
      "  [33 34 35]]\n",
      "\n",
      " [[36 37 38]\n",
      "  [39 40 41]\n",
      "  [42 43 44]]]\n"
     ]
    }
   ],
   "source": [
    "# let's see what happens in multi indexed array\n",
    "test= np.arange(45).reshape((5,3,3))\n",
    "print(test)"
   ]
  },
  {
   "cell_type": "code",
   "execution_count": 73,
   "metadata": {},
   "outputs": [
    {
     "name": "stdout",
     "output_type": "stream",
     "text": [
      "[3 4 5]\n",
      "[[[ 0  1  2]\n",
      "  [ 3  4  5]\n",
      "  [ 6  7  8]]\n",
      "\n",
      " [[ 9 10 11]\n",
      "  [12 13 14]\n",
      "  [15 16 17]]]\n",
      "[[[ 0  1  2]\n",
      "  [ 3  4  5]\n",
      "  [ 6  7  8]]\n",
      "\n",
      " [[18 19 20]\n",
      "  [21 22 23]\n",
      "  [24 25 26]]\n",
      "\n",
      " [[36 37 38]\n",
      "  [39 40 41]\n",
      "  [42 43 44]]]\n"
     ]
    }
   ],
   "source": [
    "print(test[0,1]) # 이건 팬시 인덱싱이 아니지\n",
    "print(test[[0,1]]) # 이래야 팬시 인덱싱\n",
    "print(test[[0,2,4]])"
   ]
  },
  {
   "cell_type": "code",
   "execution_count": 74,
   "metadata": {},
   "outputs": [
    {
     "name": "stdout",
     "output_type": "stream",
     "text": [
      "[ 0 18 33 39]\n"
     ]
    }
   ],
   "source": [
    "print(test[[0,2,3,4],[0,0,2,1],[0,0,0,0]]) # 잘 따져서 봐보셈"
   ]
  },
  {
   "cell_type": "code",
   "execution_count": 75,
   "metadata": {},
   "outputs": [
    {
     "name": "stdout",
     "output_type": "stream",
     "text": [
      "[[ 0  1  2  3]\n",
      " [ 4  5  6  7]\n",
      " [ 8  9 10 11]]\n",
      "[[ 0  4  8]\n",
      " [ 1  5  9]\n",
      " [ 2  6 10]\n",
      " [ 3  7 11]]\n"
     ]
    }
   ],
   "source": [
    "# transpose 특성 정리\n",
    "A = np.arange(12).reshape(3,4)\n",
    "print(A)\n",
    "print(A.T)\n"
   ]
  },
  {
   "cell_type": "code",
   "execution_count": 76,
   "metadata": {},
   "outputs": [
    {
     "name": "stdout",
     "output_type": "stream",
     "text": [
      "[[ 0  4  8]\n",
      " [ 1  5  9]\n",
      " [ 2  6 10]\n",
      " [ 3  7 11]]\n",
      "[[ 0  4  8]\n",
      " [ 1  5  9]\n",
      " [ 2  6 10]\n",
      " [ 3  7 11]]\n"
     ]
    }
   ],
   "source": [
    "print(A.transpose())\n",
    "print(np.transpose(A))"
   ]
  },
  {
   "cell_type": "code",
   "execution_count": 77,
   "metadata": {},
   "outputs": [
    {
     "name": "stdout",
     "output_type": "stream",
     "text": [
      "[[[ 0  1  2  3]\n",
      "  [ 4  5  6  7]\n",
      "  [ 8  9 10 11]]\n",
      "\n",
      " [[12 13 14 15]\n",
      "  [16 17 18 19]\n",
      "  [20 21 22 23]]]\n",
      "(2, 3, 4)\n"
     ]
    }
   ],
   "source": [
    "AA = np.arange(24).reshape((2,3,4))\n",
    "print(AA) # 2by3by4\n",
    "print(AA.shape)"
   ]
  },
  {
   "cell_type": "code",
   "execution_count": 78,
   "metadata": {},
   "outputs": [
    {
     "name": "stdout",
     "output_type": "stream",
     "text": [
      "[[[ 0 12]\n",
      "  [ 4 16]\n",
      "  [ 8 20]]\n",
      "\n",
      " [[ 1 13]\n",
      "  [ 5 17]\n",
      "  [ 9 21]]\n",
      "\n",
      " [[ 2 14]\n",
      "  [ 6 18]\n",
      "  [10 22]]\n",
      "\n",
      " [[ 3 15]\n",
      "  [ 7 19]\n",
      "  [11 23]]]\n",
      "(4, 3, 2)\n"
     ]
    }
   ],
   "source": [
    "print(AA.T)# 4by 3by2\n",
    "print(AA.T.shape)"
   ]
  },
  {
   "cell_type": "code",
   "execution_count": 79,
   "metadata": {},
   "outputs": [
    {
     "name": "stdout",
     "output_type": "stream",
     "text": [
      "[[[ 0 12]\n",
      "  [ 1 13]\n",
      "  [ 2 14]\n",
      "  [ 3 15]]\n",
      "\n",
      " [[ 4 16]\n",
      "  [ 5 17]\n",
      "  [ 6 18]\n",
      "  [ 7 19]]\n",
      "\n",
      " [[ 8 20]\n",
      "  [ 9 21]\n",
      "  [10 22]\n",
      "  [11 23]]]\n",
      "(3, 4, 2)\n"
     ]
    }
   ],
   "source": [
    "print(AA.transpose(1,2,0)) \n",
    "print(AA.transpose(1,2,0).shape) \n",
    "# 이렇게 하면 특정한 shape의 transpose를 구할 수 있음"
   ]
  },
  {
   "cell_type": "code",
   "execution_count": 80,
   "metadata": {},
   "outputs": [
    {
     "name": "stdout",
     "output_type": "stream",
     "text": [
      "[[[ 0 12]\n",
      "  [ 1 13]\n",
      "  [ 2 14]\n",
      "  [ 3 15]]\n",
      "\n",
      " [[ 4 16]\n",
      "  [ 5 17]\n",
      "  [ 6 18]\n",
      "  [ 7 19]]\n",
      "\n",
      " [[ 8 20]\n",
      "  [ 9 21]\n",
      "  [10 22]\n",
      "  [11 23]]]\n"
     ]
    }
   ],
   "source": [
    "print(np.transpose(AA,(1,2,0))) # 이렇게 해도 상관은 없넹 "
   ]
  },
  {
   "cell_type": "code",
   "execution_count": 81,
   "metadata": {},
   "outputs": [
    {
     "name": "stdout",
     "output_type": "stream",
     "text": [
      "0    4\n",
      "1    5\n",
      "2    6\n",
      "3    7\n",
      "dtype: int64\n",
      "<class 'pandas.core.series.Series'>\n",
      "[4 5 6 7]\n",
      "<class 'numpy.ndarray'>\n",
      "4\n",
      "RangeIndex(start=0, stop=4, step=1)\n"
     ]
    }
   ],
   "source": [
    "# Series는 array랑 비슷하다고 봐도 됨\n",
    "ex = pd.Series([4,5,6,7])\n",
    "print(ex)\n",
    "print(type(ex))\n",
    "print(ex.values)\n",
    "print(type(ex.values)) # 보면 numpy의 ndarray의 형태임을 알 수 있음\n",
    "print(len(ex))\n",
    "print(ex.index) # series의 range라고 봐도 됨\n"
   ]
  },
  {
   "cell_type": "code",
   "execution_count": 82,
   "metadata": {},
   "outputs": [
    {
     "name": "stdout",
     "output_type": "stream",
     "text": [
      "가    4\n",
      "나    3\n",
      "다    2\n",
      "라    1\n",
      "dtype: int64\n",
      "Index(['가', '나', '다', '라'], dtype='object')\n",
      "<class 'pandas.core.indexes.base.Index'>\n",
      "(4,)\n",
      "나\n"
     ]
    }
   ],
   "source": [
    "# you can choose the index of its series\n",
    "ex2 = pd.Series([4,3,2,1], index = ['가','나','다','라'])\n",
    "print(ex2)\n",
    "print(ex2.index)\n",
    "print(type(ex2.index))\n",
    "print(ex2.index.shape)\n",
    "print(ex2.index[1])\n",
    "# 결과를 보고 유추를 해보자\n"
   ]
  },
  {
   "cell_type": "code",
   "execution_count": 83,
   "metadata": {},
   "outputs": [
    {
     "name": "stdout",
     "output_type": "stream",
     "text": [
      "4\n",
      "2\n",
      "가    4\n",
      "나    3\n",
      "dtype: int64\n",
      "<class 'pandas.core.series.Series'>\n",
      " \n",
      "가    8\n",
      "나    6\n",
      "다    4\n",
      "라    2\n",
      "dtype: int64\n",
      " \n",
      "가    54.598150\n",
      "나    20.085537\n",
      "다     7.389056\n",
      "라     2.718282\n",
      "dtype: float64\n"
     ]
    }
   ],
   "source": [
    "# you can use index for selecting values\n",
    "print(ex2['가'])\n",
    "print(ex2['다'])\n",
    "# this kind of operation could be used in series too\n",
    "print(ex2[ex2>2])\n",
    "alpha = ex2[ex2>2]\n",
    "print(type(alpha))\n",
    "print(\" \")\n",
    "print(ex2*2)\n",
    "print(\" \")\n",
    "print(np.exp(ex2)) # e^4 , e^3 .... 이런식으로?"
   ]
  },
  {
   "cell_type": "code",
   "execution_count": 84,
   "metadata": {},
   "outputs": [
    {
     "data": {
      "text/plain": [
       "True"
      ]
     },
     "execution_count": 84,
     "metadata": {},
     "output_type": "execute_result"
    }
   ],
   "source": [
    "'가' in ex2"
   ]
  },
  {
   "cell_type": "code",
   "execution_count": 85,
   "metadata": {},
   "outputs": [
    {
     "data": {
      "text/plain": [
       "False"
      ]
     },
     "execution_count": 85,
     "metadata": {},
     "output_type": "execute_result"
    }
   ],
   "source": [
    "'j' in ex2"
   ]
  },
  {
   "cell_type": "code",
   "execution_count": 86,
   "metadata": {},
   "outputs": [
    {
     "name": "stdout",
     "output_type": "stream",
     "text": [
      "seoul    50000\n",
      "daegu    20000\n",
      "busan    35000\n",
      "ulsan    28000\n",
      "dtype: int64\n"
     ]
    }
   ],
   "source": [
    "# if dictionary is needed , you can use dict and series together\n",
    "dat = {'seoul':50000 , 'daegu':20000 , 'busan':35000 , 'ulsan':28000}\n",
    "se = pd.Series(dat)\n",
    "print(se)"
   ]
  },
  {
   "cell_type": "code",
   "execution_count": 87,
   "metadata": {},
   "outputs": [
    {
     "name": "stdout",
     "output_type": "stream",
     "text": [
      "seoul      50000.0\n",
      "daejeon        NaN\n",
      "daegu      20000.0\n",
      "incheon        NaN\n",
      "dtype: float64\n"
     ]
    }
   ],
   "source": [
    "# or you can choose an index if you want\n",
    "cities= ['seoul', 'daejeon', 'daegu', 'incheon']\n",
    "se2 = pd.Series(dat, index = cities)\n",
    "print(se2) # index와 맞지않는 value는 NaN"
   ]
  },
  {
   "cell_type": "code",
   "execution_count": 88,
   "metadata": {},
   "outputs": [
    {
     "name": "stdout",
     "output_type": "stream",
     "text": [
      "seoul      False\n",
      "daejeon     True\n",
      "daegu      False\n",
      "incheon     True\n",
      "dtype: bool\n",
      "seoul       True\n",
      "daejeon    False\n",
      "daegu       True\n",
      "incheon    False\n",
      "dtype: bool\n",
      "seoul      False\n",
      "daejeon    False\n",
      "daegu      False\n",
      "incheon    False\n",
      "dtype: bool\n"
     ]
    }
   ],
   "source": [
    "# isnull, not null 같은 애들도 있다.\n",
    "print(pd.isnull(se2))\n",
    "print(pd.notnull(se2))\n",
    "print(pd.isnull(se2) == pd.notnull(se2))\n",
    "\n"
   ]
  },
  {
   "cell_type": "code",
   "execution_count": 89,
   "metadata": {},
   "outputs": [
    {
     "name": "stdout",
     "output_type": "stream",
     "text": [
      "busan       5.0\n",
      "daegu       NaN\n",
      "daejeon     2.0\n",
      "seoul      17.0\n",
      "ulsan       NaN\n",
      "dtype: float64\n"
     ]
    }
   ],
   "source": [
    "alpha = pd.Series([6,2,3,1], index = ['seoul', 'daejeon', 'daegu','busan'])\n",
    "beta = pd.Series([0,9,4,11] , index = ['daejeon','ulsan', 'busan','seoul'])\n",
    "print(alpha + beta) # 하나라도 없는애가 나오면 Nan을 찍넹"
   ]
  },
  {
   "cell_type": "code",
   "execution_count": 90,
   "metadata": {},
   "outputs": [
    {
     "name": "stdout",
     "output_type": "stream",
     "text": [
      "cities\n",
      "seoul      6\n",
      "daejeon    2\n",
      "daegu      3\n",
      "busan      1\n",
      "Name: junny, dtype: int64\n"
     ]
    }
   ],
   "source": [
    "# series 자체와 series의 INDEX 각각 모두 이름을 가질 수 있음\n",
    "alpha.name = 'junny'\n",
    "alpha.index.name = 'cities'\n",
    "print(alpha)"
   ]
  },
  {
   "cell_type": "code",
   "execution_count": 91,
   "metadata": {},
   "outputs": [
    {
     "name": "stdout",
     "output_type": "stream",
     "text": [
      "    cities  year  pop\n",
      "0    seoul  1999  1.5\n",
      "1    daegu  2000  1.7\n",
      "2    seoul  2001  3.6\n",
      "3   yongin  2000  2.5\n",
      "4    daegu  1999  2.4\n",
      "5  incheon  2002  2.0\n",
      "6   yongin  2001  3.8\n"
     ]
    }
   ],
   "source": [
    "# Dataframe -> you can use this dataframe with\n",
    "# rows , cols can have their own indices itself\n",
    "data = {\n",
    "    'cities':['seoul','daegu', 'seoul','yongin', 'daegu','incheon','yongin'],\n",
    "    'year':[1999,2000,2001,2000,1999,2002,2001],\n",
    "    'pop':[1.5,1.7,3.6,2.5,2.4,2.0,3.8]\n",
    "    }\n",
    "frame = pd.DataFrame(data)\n",
    "print(frame)"
   ]
  },
  {
   "cell_type": "code",
   "execution_count": 92,
   "metadata": {},
   "outputs": [
    {
     "name": "stdout",
     "output_type": "stream",
     "text": [
      "   cities  year  pop\n",
      "0   seoul  1999  1.5\n",
      "1   daegu  2000  1.7\n",
      "2   seoul  2001  3.6\n",
      "3  yongin  2000  2.5\n",
      "4   daegu  1999  2.4\n"
     ]
    }
   ],
   "source": [
    "print(frame.head()) # 앞에 5개 , head안에 param 넣으면 그 숫자만큼의 rows select됨"
   ]
  },
  {
   "cell_type": "code",
   "execution_count": 93,
   "metadata": {},
   "outputs": [
    {
     "name": "stdout",
     "output_type": "stream",
     "text": [
      "   pop   cities\n",
      "0  1.5    seoul\n",
      "1  1.7    daegu\n",
      "2  3.6    seoul\n",
      "3  2.5   yongin\n",
      "4  2.4    daegu\n",
      "5  2.0  incheon\n",
      "6  3.8   yongin\n"
     ]
    }
   ],
   "source": [
    "print(pd.DataFrame(data, columns=['pop','cities'])) # column의 순서에 따른 새로운 dataframe 생성 가능 \n"
   ]
  },
  {
   "cell_type": "code",
   "execution_count": 94,
   "metadata": {},
   "outputs": [
    {
     "name": "stdout",
     "output_type": "stream",
     "text": [
      "         year   cities  pop hello_world\n",
      "alpha    1999    seoul  1.5         NaN\n",
      "beta     2000    daegu  1.7         NaN\n",
      "gamma    2001    seoul  3.6         NaN\n",
      "delta    2000   yongin  2.5         NaN\n",
      "epsilon  1999    daegu  2.4         NaN\n",
      "pi       2002  incheon  2.0         NaN\n",
      "omega    2001   yongin  3.8         NaN\n"
     ]
    }
   ],
   "source": [
    "# Series와 마찬가지로 dict에 없는 값을 넘기면 Nan\n",
    "frame2 = pd.DataFrame(data, columns=['year','cities','pop','hello_world'],\n",
    "         index=['alpha','beta','gamma','delta','epsilon','pi','omega']              \n",
    "    )\n",
    "print(frame2)"
   ]
  },
  {
   "cell_type": "code",
   "execution_count": 95,
   "metadata": {},
   "outputs": [
    {
     "name": "stdout",
     "output_type": "stream",
     "text": [
      "Index(['year', 'cities', 'pop', 'hello_world'], dtype='object')\n",
      "Index(['alpha', 'beta', 'gamma', 'delta', 'epsilon', 'pi', 'omega'], dtype='object')\n"
     ]
    }
   ],
   "source": [
    "print(frame2.columns)\n",
    "print(frame2.index)\n"
   ]
  },
  {
   "cell_type": "code",
   "execution_count": 96,
   "metadata": {},
   "outputs": [
    {
     "name": "stdout",
     "output_type": "stream",
     "text": [
      "alpha        seoul\n",
      "beta         daegu\n",
      "gamma        seoul\n",
      "delta       yongin\n",
      "epsilon      daegu\n",
      "pi         incheon\n",
      "omega       yongin\n",
      "Name: cities, dtype: object\n",
      "alpha      1999\n",
      "beta       2000\n",
      "gamma      2001\n",
      "delta      2000\n",
      "epsilon    1999\n",
      "pi         2002\n",
      "omega      2001\n",
      "Name: year, dtype: int64\n",
      "alpha      1999\n",
      "beta       2000\n",
      "gamma      2001\n",
      "delta      2000\n",
      "epsilon    1999\n",
      "pi         2002\n",
      "omega      2001\n",
      "Name: year, dtype: int64\n"
     ]
    }
   ],
   "source": [
    "# Series랑 비슷함 \n",
    "print(frame2['cities'])\n",
    "print(frame2.year) # frame2.column_name = frame2['column_name']\n",
    "print(frame2['year'])\n"
   ]
  },
  {
   "cell_type": "code",
   "execution_count": 97,
   "metadata": {},
   "outputs": [
    {
     "name": "stdout",
     "output_type": "stream",
     "text": [
      "year            2001\n",
      "cities         seoul\n",
      "pop              3.6\n",
      "hello_world      NaN\n",
      "Name: gamma, dtype: object\n",
      " \n",
      "year            2001\n",
      "cities         seoul\n",
      "pop              3.6\n",
      "hello_world      NaN\n",
      "Name: gamma, dtype: object\n"
     ]
    }
   ],
   "source": [
    "# when we use loc and iloc\n",
    "print(frame2.loc['gamma']) # 이놈의 index도 Index(['year', 'cities', 'pop', 'hello_world'], dtype='object') 로 나오겠징\n",
    "print(\" \")\n",
    "print(frame2.iloc[2]) # iloc가 index형태 loc가 그냥 col_name\n",
    "\n"
   ]
  },
  {
   "cell_type": "code",
   "execution_count": 98,
   "metadata": {},
   "outputs": [
    {
     "name": "stdout",
     "output_type": "stream",
     "text": [
      "         year   cities  pop  hello_world\n",
      "alpha    1999    seoul  1.5           90\n",
      "beta     2000    daegu  1.7           90\n",
      "gamma    2001    seoul  3.6           90\n",
      "delta    2000   yongin  2.5           90\n",
      "epsilon  1999    daegu  2.4           90\n",
      "pi       2002  incheon  2.0           90\n",
      "omega    2001   yongin  3.8           90\n"
     ]
    }
   ],
   "source": [
    "# you can put a value in column\n",
    "frame2.hello_world = 90\n",
    "print(frame2)"
   ]
  },
  {
   "cell_type": "code",
   "execution_count": 99,
   "metadata": {},
   "outputs": [
    {
     "name": "stdout",
     "output_type": "stream",
     "text": [
      "         year   cities  pop  hello_world\n",
      "alpha    1999    seoul  1.5            0\n",
      "beta     2000    daegu  1.7            1\n",
      "gamma    2001    seoul  3.6            2\n",
      "delta    2000   yongin  2.5            3\n",
      "epsilon  1999    daegu  2.4            4\n",
      "pi       2002  incheon  2.0            5\n",
      "omega    2001   yongin  3.8            6\n"
     ]
    }
   ],
   "source": [
    "frame2['hello_world'] = np.arange(len(frame2.hello_world.index))\n",
    "print(frame2) \n",
    "# 이런식으로 해도 되겠죠"
   ]
  },
  {
   "cell_type": "code",
   "execution_count": 100,
   "metadata": {},
   "outputs": [
    {
     "name": "stdout",
     "output_type": "stream",
     "text": [
      "         year   cities  pop  hello_world\n",
      "alpha    1999    seoul  1.5          NaN\n",
      "beta     2000    daegu  1.7          NaN\n",
      "gamma    2001    seoul  3.6         -1.0\n",
      "delta    2000   yongin  2.5          NaN\n",
      "epsilon  1999    daegu  2.4          NaN\n",
      "pi       2002  incheon  2.0         -8.0\n",
      "omega    2001   yongin  3.8         -3.0\n"
     ]
    }
   ],
   "source": [
    "# if you want to put a list or array to DATAFRAME\n",
    "# len(list or array) == Dataframe's len\n",
    "# if you want to put a Series -> non existing value would be replaced to Nan\n",
    "\n",
    "val = pd.Series([-1,-3,-8], index = ['gamma','omega','pi'])\n",
    "frame2.hello_world = val \n",
    "print(frame2)"
   ]
  },
  {
   "cell_type": "code",
   "execution_count": 101,
   "metadata": {},
   "outputs": [
    {
     "name": "stdout",
     "output_type": "stream",
     "text": [
      "         year   cities  pop  hello_world  new_one\n",
      "alpha    1999    seoul  1.5          NaN    False\n",
      "beta     2000    daegu  1.7          NaN    False\n",
      "gamma    2001    seoul  3.6         -1.0    False\n",
      "delta    2000   yongin  2.5          NaN     True\n",
      "epsilon  1999    daegu  2.4          NaN    False\n",
      "pi       2002  incheon  2.0         -8.0    False\n",
      "omega    2001   yongin  3.8         -3.0     True\n"
     ]
    }
   ],
   "source": [
    "# if you put an non existing column -> new column is being created.\n",
    "#frame2.new_one = frame2['cities']=='yongin' -> serWarning: Pandas doesn't allow columns to be created via a new attribute name\n",
    "frame2['new_one'] = frame2['cities']=='yongin' \n",
    "print(frame2)\n",
    "# 새로운 col 생성할때는 .형식이 아닌 기존의 [''] 방식으로 해야 하나보다."
   ]
  },
  {
   "cell_type": "code",
   "execution_count": 102,
   "metadata": {},
   "outputs": [
    {
     "name": "stdout",
     "output_type": "stream",
     "text": [
      "         year   cities  pop  hello_world\n",
      "alpha    1999    seoul  1.5          NaN\n",
      "beta     2000    daegu  1.7          NaN\n",
      "gamma    2001    seoul  3.6         -1.0\n",
      "delta    2000   yongin  2.5          NaN\n",
      "epsilon  1999    daegu  2.4          NaN\n",
      "pi       2002  incheon  2.0         -8.0\n",
      "omega    2001   yongin  3.8         -3.0\n"
     ]
    }
   ],
   "source": [
    "# you can delete a column by usin 'del' \n",
    "del frame2['new_one']\n",
    "print(frame2)"
   ]
  },
  {
   "cell_type": "code",
   "execution_count": 103,
   "metadata": {},
   "outputs": [
    {
     "name": "stdout",
     "output_type": "stream",
     "text": [
      "      seoul  daegu\n",
      "1999    1.5    2.4\n",
      "2001    3.6    NaN\n",
      "2000    NaN    1.7\n"
     ]
    }
   ],
   "source": [
    "# you can use 중첩된(nested) dict to make a new data\n",
    "pop = {'seoul':{1999:1.5 , 2001:3.6},'daegu':{1999:2.4 , 2000:1.7}}\n",
    "# 이 중첩된 dict을 DataFrame에 넘기면 바깥에 있는 dict의 key는 col이 되고 안에있는 key 는 row가된다.\n",
    "frame3 = pd.DataFrame(pop)\n",
    "print(frame3)\n",
    "# see how the nested dict works as a Dataframe!!!"
   ]
  },
  {
   "cell_type": "code",
   "execution_count": 104,
   "metadata": {},
   "outputs": [
    {
     "data": {
      "text/html": [
       "<div>\n",
       "<style scoped>\n",
       "    .dataframe tbody tr th:only-of-type {\n",
       "        vertical-align: middle;\n",
       "    }\n",
       "\n",
       "    .dataframe tbody tr th {\n",
       "        vertical-align: top;\n",
       "    }\n",
       "\n",
       "    .dataframe thead th {\n",
       "        text-align: right;\n",
       "    }\n",
       "</style>\n",
       "<table border=\"1\" class=\"dataframe\">\n",
       "  <thead>\n",
       "    <tr style=\"text-align: right;\">\n",
       "      <th></th>\n",
       "      <th>1999</th>\n",
       "      <th>2001</th>\n",
       "      <th>2000</th>\n",
       "    </tr>\n",
       "  </thead>\n",
       "  <tbody>\n",
       "    <tr>\n",
       "      <th>seoul</th>\n",
       "      <td>1.5</td>\n",
       "      <td>3.6</td>\n",
       "      <td>NaN</td>\n",
       "    </tr>\n",
       "    <tr>\n",
       "      <th>daegu</th>\n",
       "      <td>2.4</td>\n",
       "      <td>NaN</td>\n",
       "      <td>1.7</td>\n",
       "    </tr>\n",
       "  </tbody>\n",
       "</table>\n",
       "</div>"
      ],
      "text/plain": [
       "       1999  2001  2000\n",
       "seoul   1.5   3.6   NaN\n",
       "daegu   2.4   NaN   1.7"
      ]
     },
     "execution_count": 104,
     "metadata": {},
     "output_type": "execute_result"
    }
   ],
   "source": [
    "np.transpose(frame3)"
   ]
  },
  {
   "cell_type": "code",
   "execution_count": 105,
   "metadata": {},
   "outputs": [
    {
     "name": "stdout",
     "output_type": "stream",
     "text": [
      "[[1.5 2.4]\n",
      " [3.6 nan]\n",
      " [nan 1.7]]\n",
      "[[1999 'seoul' 1.5 nan]\n",
      " [2000 'daegu' 1.7 nan]\n",
      " [2001 'seoul' 3.6 -1.0]\n",
      " [2000 'yongin' 2.5 nan]\n",
      " [1999 'daegu' 2.4 nan]\n",
      " [2002 'incheon' 2.0 -8.0]\n",
      " [2001 'yongin' 3.8 -3.0]]\n",
      "Index(['alpha', 'beta', 'gamma', 'delta', 'epsilon', 'pi', 'omega'], dtype='object')\n",
      "Index(['seoul', 'daegu'], dtype='object')\n"
     ]
    }
   ],
   "source": [
    "print(frame3.values)\n",
    "print(frame2.values)\n",
    "print(frame2.index)\n",
    "print(frame3.columns)"
   ]
  },
  {
   "cell_type": "code",
   "execution_count": 107,
   "metadata": {},
   "outputs": [
    {
     "name": "stdout",
     "output_type": "stream",
     "text": [
      "Index(['alpha', 'alpha', 'beta', 'beta', 'beta'], dtype='object')\n"
     ]
    }
   ],
   "source": [
    "# index can have overlapped indices\n",
    "dup_labels= pd.Index(['alpha','alpha','beta','beta','beta'])\n",
    "print(dup_labels)"
   ]
  },
  {
   "cell_type": "code",
   "execution_count": 108,
   "metadata": {},
   "outputs": [
    {
     "name": "stdout",
     "output_type": "stream",
     "text": [
      "q    0\n",
      "w    3\n",
      "e   -2\n",
      "r    7\n",
      "dtype: int64\n",
      "t    NaN\n",
      "w    3.0\n",
      "e   -2.0\n",
      "q    0.0\n",
      "y    NaN\n",
      "r    7.0\n",
      "dtype: float64\n"
     ]
    }
   ],
   "source": [
    "# REINDEXING!!\n",
    "aa = pd.Series([0,3,-2,7], index = ['q','w','e','r'])\n",
    "print(aa)\n",
    "aa_reindexed = aa.reindex(['t','w','e','q','y','r'])\n",
    "print(aa_reindexed)"
   ]
  },
  {
   "cell_type": "code",
   "execution_count": 109,
   "metadata": {},
   "outputs": [
    {
     "name": "stdout",
     "output_type": "stream",
     "text": [
      "0      blue\n",
      "2       red\n",
      "4    purple\n",
      "dtype: object\n",
      "0      blue\n",
      "2       red\n",
      "4    purple\n",
      "dtype: object\n"
     ]
    }
   ],
   "source": [
    "# 시계열같은 순차적인 데이터를 reindex할때 값을 보간하거나 채워넣어야함\n",
    "# method 옵션을 활용해 가능 -> ffill을 사용해보자\n",
    "ob = pd.Series(['blue','red','purple'] , index = [0,2,4])\n",
    "print(ob)\n",
    "ob.reindex(range(6), method = 'ffill')\n",
    "print(ob)\n",
    "# this does not work as a book's example.. WTF\n",
    "#책에서는 그냥 인덱스 012345마다 0,1일땐 블루 2,3일땐 레드 4,5일땐 퍼플 이렇게 나옴.."
   ]
  },
  {
   "attachments": {},
   "cell_type": "markdown",
   "metadata": {},
   "source": [
    "일단 여기까지.. 했고 \n",
    "더 배우고 싶고 넣고 싶은 내용은 \n",
    "``` 파이썬 라이브러리를 활용한 데이터분석``` 책을 보고\n",
    "알아서 더 넣기  \n",
    "\n",
    "더 넣으려면 여기 바로 위에부터 차근차근 넣기"
   ]
  },
  {
   "cell_type": "code",
   "execution_count": null,
   "metadata": {},
   "outputs": [],
   "source": []
  }
 ],
 "metadata": {
  "kernelspec": {
   "display_name": "base",
   "language": "python",
   "name": "python3"
  },
  "language_info": {
   "codemirror_mode": {
    "name": "ipython",
    "version": 3
   },
   "file_extension": ".py",
   "mimetype": "text/x-python",
   "name": "python",
   "nbconvert_exporter": "python",
   "pygments_lexer": "ipython3",
   "version": "3.9.16"
  },
  "orig_nbformat": 4
 },
 "nbformat": 4,
 "nbformat_minor": 2
}
